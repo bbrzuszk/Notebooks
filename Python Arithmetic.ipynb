{
 "cells": [
  {
   "cell_type": "markdown",
   "metadata": {},
   "source": [
    "# Python Arithmetic Operators\n",
    "\n",
    "Operators are used to perform operations on variables and values.\n",
    "\n",
    "| Operator | Name |\tExample\t|\n",
    "| ---------- | ---- | --------------- |\n",
    "| + | Addition | x + y\t|\n",
    "| - |\tSubtraction\t| x - y\t |\n",
    "| * |\tMultiplication | x * y\t|\n",
    "| / |\tDivision | x / y |\t\n",
    "| % |\tModulus | x % y\t|\n",
    "| ** |\tExponentiation | x ** y |\t\n",
    "| // |\tFloor division | x // y |\n",
    "\n"
   ]
  },
  {
   "cell_type": "markdown",
   "metadata": {},
   "source": [
    "**Addition**"
   ]
  },
  {
   "cell_type": "code",
   "execution_count": null,
   "metadata": {},
   "outputs": [],
   "source": [
    "print(5 + 2)       #int + int = int\n",
    "print(3 + 2.146)   #int + float = float\n",
    "print(2.5 + 3.5)   #float + float = float\n",
    "print(\"7\" + \"5\")   #str + str = str\n",
    "print(\"3\" + 4)     #str + int or float = Error"
   ]
  },
  {
   "cell_type": "markdown",
   "metadata": {},
   "source": [
    "**Subtraction**"
   ]
  },
  {
   "cell_type": "code",
   "execution_count": null,
   "metadata": {},
   "outputs": [],
   "source": [
    "print(5 - 2)       #int - int = int\n",
    "print(3 - 2.146)   #int - float = float\n",
    "print(2.5 - 3.5)   #float - float = float\n",
    "                   ## There is no subtraction with strings"
   ]
  },
  {
   "cell_type": "markdown",
   "metadata": {},
   "source": [
    "**Multiplication**"
   ]
  },
  {
   "cell_type": "code",
   "execution_count": null,
   "metadata": {},
   "outputs": [],
   "source": [
    "print(5 * 2)       #int * int = int\n",
    "print(3 * 2.146)   #int * float = float\n",
    "print(2.5 * 3.5)   #float * float = float\n",
    "print(\"7\" * 5)     #str * int = str\n",
    "print(\"3\" + 4.5)   #str * float or str = Error"
   ]
  },
  {
   "cell_type": "markdown",
   "metadata": {},
   "source": [
    "**Real Division**"
   ]
  },
  {
   "cell_type": "code",
   "execution_count": 1,
   "metadata": {},
   "outputs": [
    {
     "name": "stdout",
     "output_type": "stream",
     "text": [
      "2.5\n",
      "2.0\n",
      "0.7142857142857143\n"
     ]
    }
   ],
   "source": [
    "print(5 / 2)       #int / int = float\n",
    "print(4 / 2)       #int / int = float    even if there is not decimal to be had it will always result in float (2.0)\n",
    "print(2.5 / 3.5)   #float / float = float"
   ]
  },
  {
   "cell_type": "markdown",
   "metadata": {},
   "source": [
    "**Floor Division**"
   ]
  },
  {
   "cell_type": "code",
   "execution_count": 3,
   "metadata": {},
   "outputs": [
    {
     "name": "stdout",
     "output_type": "stream",
     "text": [
      "2\n",
      "2\n",
      "2.0\n"
     ]
    }
   ],
   "source": [
    "print(5 // 2)       #int / int = int    but rounded down\n",
    "print(4 // 2)       #int / int = int    \n",
    "print(5.5 // 2.0)    #float / float = float  but rounded down"
   ]
  },
  {
   "cell_type": "markdown",
   "metadata": {},
   "source": [
    "**Modulus** or Remainder Division"
   ]
  },
  {
   "cell_type": "code",
   "execution_count": 4,
   "metadata": {},
   "outputs": [
    {
     "name": "stdout",
     "output_type": "stream",
     "text": [
      "1\n",
      "0\n",
      "3\n"
     ]
    }
   ],
   "source": [
    "print(5 % 2)       #int % int = int    \n",
    "print(4 % 2)          \n",
    "print(23 % 4)      "
   ]
  },
  {
   "cell_type": "markdown",
   "metadata": {},
   "source": [
    "**Exponentiation**"
   ]
  },
  {
   "cell_type": "code",
   "execution_count": 7,
   "metadata": {},
   "outputs": [
    {
     "name": "stdout",
     "output_type": "stream",
     "text": [
      "8\n",
      "9.0\n",
      "68.92099999999998\n"
     ]
    }
   ],
   "source": [
    "print(2**3)      #int ** int = int\n",
    "print(3**2.0)    #int ** float = float\n",
    "print(4.1 ** 3)  #float ** int = float"
   ]
  },
  {
   "cell_type": "markdown",
   "metadata": {},
   "source": [
    "-----\n",
    "# Python Assignment Operators\n",
    "\n",
    "| Operator | Example | Same As |\n",
    "| -------- | -------- |------- |\n",
    "| = | x = 5\t| x = 5\t |\n",
    "| += | x += 3 | x = x + 3 |\t\n",
    "| -= | x -= 3 | x = x - 3 |\t\n",
    "| *= | x *= 3 | x = x * 3 |\t\n",
    "| /= | x /= 3 | x = x / 3 |\t\n",
    "| %= | x %= 3 | x = x % 3 |\t\n",
    "| //= | x //= 3 | x = x // 3 |\t\n",
    "| **= | x **= 3 | x = x ** 3 |\n",
    "\n",
    "*for example*"
   ]
  },
  {
   "cell_type": "code",
   "execution_count": 8,
   "metadata": {},
   "outputs": [
    {
     "name": "stdout",
     "output_type": "stream",
     "text": [
      "2\n",
      "5\n",
      "4\n",
      "8\n"
     ]
    }
   ],
   "source": [
    "x = 2\n",
    "print(x)\n",
    "x += 3\n",
    "print(x)\n",
    "x -= 1\n",
    "print(x)\n",
    "x *= 2\n",
    "print(x)"
   ]
  }
 ],
 "metadata": {
  "kernelspec": {
   "display_name": "Python 3",
   "language": "python",
   "name": "python3"
  },
  "language_info": {
   "codemirror_mode": {
    "name": "ipython",
    "version": 3
   },
   "file_extension": ".py",
   "mimetype": "text/x-python",
   "name": "python",
   "nbconvert_exporter": "python",
   "pygments_lexer": "ipython3",
   "version": "3.7.6"
  }
 },
 "nbformat": 4,
 "nbformat_minor": 4
}
