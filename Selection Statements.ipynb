{
 "cells": [
  {
   "cell_type": "markdown",
   "metadata": {},
   "source": [
    "# Python Selection Statements\n",
    "----\n",
    "**Python supports the usual logical statements from mathematice**\n",
    "* Equals ==\n",
    "* Not Equals !=\n",
    "* Greater than >\n",
    "* Less than < \n",
    "* Greater Than or Equal To >=\n",
    "* Less Than or Equal To <=\n",
    "\n",
    "These conditions can be used in several ways, most commonly in \"if statements\" or selection statements and loops"
   ]
  },
  {
   "cell_type": "markdown",
   "metadata": {},
   "source": [
    "## Single Alternative or One-Way Selection Structure\n",
    "\n",
    "An \"if statement\" is written by using the <span style=\"color:red\">if </span> keyword"
   ]
  },
  {
   "cell_type": "code",
   "execution_count": 1,
   "metadata": {},
   "outputs": [
    {
     "name": "stdout",
     "output_type": "stream",
     "text": [
      "a is greater than b\n"
     ]
    }
   ],
   "source": [
    "a = 33\n",
    "b = 12\n",
    "if a > b: \n",
    "    print(\"a is greater than b\")"
   ]
  },
  {
   "cell_type": "markdown",
   "metadata": {},
   "source": [
    "The example above uses two variables <span style=\"color:red\">a </span> and <span style=\"color:red\">b </span>, which are used as part of the statement to test whether a is greater than b.  Since a = 33 and b = 12, we know that 33 > 12 and so the condition posed in the if statement is true and the indented instruction executes"
   ]
  },
  {
   "cell_type": "code",
   "execution_count": 2,
   "metadata": {},
   "outputs": [
    {
     "name": "stdout",
     "output_type": "stream",
     "text": [
      "this ends the script\n"
     ]
    }
   ],
   "source": [
    "a = 33\n",
    "b = 12\n",
    "if b > a: \n",
    "    print(\"b is greater than a\")\n",
    "print(\"this ends the script\")"
   ]
  },
  {
   "cell_type": "markdown",
   "metadata": {},
   "source": [
    "Conversly in the above example <span style=\"color:red\">b </span> is not greater than <span style=\"color:red\">a </span>, so the indented statement is skipped and the program moves on to what is left to execute."
   ]
  },
  {
   "cell_type": "markdown",
   "metadata": {},
   "source": [
    "**Indentation in python is extreamly important**    \n",
    "Indentation creates blocks of code in python.  They act as the grouping symbols used in other languages you may be used too.  An indented statement is always expected after an conditional statement or loop heading among other things."
   ]
  },
  {
   "cell_type": "markdown",
   "metadata": {},
   "source": [
    "## Dual Alternative or Two-Way Selection Structures   \n",
    "The <span style=\"color:red\">else </span>keyword catches anything that isn't caught by the preceding if statements.  The block of code indented from an else will execute only when the conditional statements above are false."
   ]
  },
  {
   "cell_type": "code",
   "execution_count": 3,
   "metadata": {},
   "outputs": [
    {
     "name": "stdout",
     "output_type": "stream",
     "text": [
      "value 2 is greater than value 1\n"
     ]
    }
   ],
   "source": [
    "value1 = 3\n",
    "value2 = 10\n",
    "if value1 > value2:\n",
    "    print(\"value 1 is greater than value 2\")\n",
    "else: \n",
    "    print(\"value 2 is greater than value 1\")"
   ]
  },
  {
   "cell_type": "markdown",
   "metadata": {},
   "source": [
    "## Dual Alternative with Multiple Paths    \n",
    "Sometimes you need to make a singe decision but there are many avenues to take.  Something like grade for an assignemnt can only have 1 true outcome but there can be 5 different paths to take.  This is were we need a structure that allows us to pick one path of several   \n",
    "We introduce the <span style=\"color:red\">elif </span>statement"
   ]
  },
  {
   "cell_type": "code",
   "execution_count": 4,
   "metadata": {},
   "outputs": [
    {
     "name": "stdin",
     "output_type": "stream",
     "text": [
      "Enter the score for the assignment:  75\n"
     ]
    },
    {
     "name": "stdout",
     "output_type": "stream",
     "text": [
      "C\n"
     ]
    }
   ],
   "source": [
    "score = int(input(\"Enter the score for the assignment: \"))\n",
    "\n",
    "if score >= 90:\n",
    "    print(\"A\")\n",
    "elif score >= 80:\n",
    "    print(\"B\")\n",
    "elif score >= 70:\n",
    "    print(\"C\")\n",
    "elif score >= 60:\n",
    "    print(\"D\")\n",
    "else:\n",
    "    print(\"F\")"
   ]
  },
  {
   "cell_type": "markdown",
   "metadata": {},
   "source": [
    "Notice in the example above we start with an <span style=\"color:red\">if </span>statement to begin the conditional logic.  We continue with <span style=\"color:red\">elif </span>statements that have conditions of their own. If the condition is true in any of them the indented statement executes and the remainder of the structure is skipped.  If none of the conditions listed are true the <span style=\"color:red\">else </span> will execute. An <span style=\"color:red\">else </span>will never get a condition associated with it. It will always execute when the conditional logic above them are all false.   \n",
    "- - -\n"
   ]
  },
  {
   "cell_type": "markdown",
   "metadata": {},
   "source": [
    "## Nested If Statement  \n",
    "You can put condtional statement in conditional statement. You just have to be mindful of your indentation."
   ]
  },
  {
   "cell_type": "code",
   "execution_count": 5,
   "metadata": {},
   "outputs": [
    {
     "name": "stdout",
     "output_type": "stream",
     "text": [
      "You've been accepted to college\n",
      "You're also eligible for academic scholarship\n"
     ]
    }
   ],
   "source": [
    "SAT = 1350\n",
    "GPA = 4.5\n",
    "if SAT > 1300:\n",
    "    print(\"You've been accepted to college\")\n",
    "    if GPA > 4.3:\n",
    "        print(\"You're also eligible for academic scholarship\")\n",
    "else:\n",
    "    print(\"You will be put on our waitlist for enrollemnt\")"
   ]
  },
  {
   "cell_type": "markdown",
   "metadata": {},
   "source": [
    "In the above example you can see that I've placed a condition in a condition. It only makes sense to tell someone they are eligible for a scholarship if they have already been accepted to the school.  So we first check for accpetance with the <span style=\"color:red\">if SAT > 1300 </span>.  Once we know we are in that block of code because the condition is true we can then check if the GPA is eligible for scholarship.  We wouldn't reverse these condition because we would want to state someone is eligible for scholarship if they have not been accepted to the college.  \n",
    "**This is an example of a nested selection statement**  You can utilize the block of code in a selection statement for any purpose.  If you have more questions to ask...ASK!!"
   ]
  },
  {
   "cell_type": "markdown",
   "metadata": {},
   "source": [
    "## Logical Operators\n",
    "\n",
    "The keyworkd <span style=\"color:red\">and </span>is a logical operator that is used to combine conditional statements.  It forces us to be sure that they conditions on each side of the logical <span style=\"color:red\">and </span> are **both** true for the overal expression to be true"
   ]
  },
  {
   "cell_type": "code",
   "execution_count": 6,
   "metadata": {},
   "outputs": [
    {
     "name": "stdout",
     "output_type": "stream",
     "text": [
      "Both conditions are true\n"
     ]
    }
   ],
   "source": [
    "a = 200\n",
    "b = 33\n",
    "c = 500\n",
    "if a > b and c > a:\n",
    "    print(\"Both conditions are true\")"
   ]
  },
  {
   "cell_type": "markdown",
   "metadata": {},
   "source": [
    "In the above example both the conditions <span style=\"color:red\">a > b and c > a </span>are true.  So the overal expression is true and the indented block of code can execute. Had either expression been false the overal expression would be false and the indented block of code would not have executed"
   ]
  },
  {
   "cell_type": "markdown",
   "metadata": {},
   "source": [
    "The <span style=\"color:red\">or </span>keyword is a logical operator, and is used to combine conditonal statemets. It forces us to be sure that at least one of the conditions on either side of the <span style=\"color:red\">or </span>is true for the overal expression to be true"
   ]
  },
  {
   "cell_type": "code",
   "execution_count": 7,
   "metadata": {},
   "outputs": [
    {
     "name": "stdout",
     "output_type": "stream",
     "text": [
      "At least one of the conditions is true\n"
     ]
    }
   ],
   "source": [
    "a = 200\n",
    "b = 33\n",
    "c = 500\n",
    "if a > b or a > c:\n",
    "    print(\"At least one of the conditions is true\")"
   ]
  },
  {
   "cell_type": "markdown",
   "metadata": {},
   "source": [
    "In the above example you can see that only one condition is actually true, the <span style=\"color:red\">a > b</span>.  A logical or only needs one of the two condtional statments to be true for the overal expression to be true and execute the indented block of code.  "
   ]
  },
  {
   "cell_type": "code",
   "execution_count": null,
   "metadata": {},
   "outputs": [],
   "source": []
  }
 ],
 "metadata": {
  "kernelspec": {
   "display_name": "Python 3",
   "language": "python",
   "name": "python3"
  },
  "language_info": {
   "codemirror_mode": {
    "name": "ipython",
    "version": 3
   },
   "file_extension": ".py",
   "mimetype": "text/x-python",
   "name": "python",
   "nbconvert_exporter": "python",
   "pygments_lexer": "ipython3",
   "version": "3.7.6"
  }
 },
 "nbformat": 4,
 "nbformat_minor": 4
}
