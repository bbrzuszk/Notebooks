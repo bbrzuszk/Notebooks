{
 "cells": [
  {
   "cell_type": "markdown",
   "metadata": {},
   "source": [
    "# Python Strings and Sequences\n",
    "\n",
    "A sequence is a collection of elements.  A sequence can be indexed, counted, iterated over, and much more.  Strings are a sequence of characters.  Strings are a complex data type and allow for us to use methods upon them and to index them by position.  "
   ]
  },
  {
   "cell_type": "markdown",
   "metadata": {},
   "source": [
    "## String Methods\n",
    "Strings are complex data types that all you to perform actions upon them. There are many methods that can be accessed from a string.  You can view these methods in the python doc for strings <a href = \"https://docs.python.org/2/library/string.html\">here</a>\n",
    "\n",
    "See the example below for how to apply the string methods"
   ]
  },
  {
   "cell_type": "code",
   "execution_count": 3,
   "metadata": {},
   "outputs": [
    {
     "name": "stdout",
     "output_type": "stream",
     "text": [
      "Welcome to our string tutorial\n",
      "WELCOME TO OUR STRING TUTORIAL\n",
      "welcome to our string tutorial\n",
      "Welcome To Our String Tutorial\n",
      "Welcome to our string tutorial\n"
     ]
    }
   ],
   "source": [
    "myString = \"Welcome to our string tutorial\"\n",
    "print(myString)           #prints the orignial string\n",
    "print(myString.upper())   #Uses the Upper method to show the string in all caps\n",
    "print(myString.lower())   #Uses the lower method to show the string in all lowercase letters\n",
    "print(myString.title())   #Uses the title method to capitalize the first letter of each word\n",
    "print(myString)           #Shows that myString has not been altered since no asssignments have been made"
   ]
  },
  {
   "cell_type": "markdown",
   "metadata": {},
   "source": [
    "Be sure to read the documentation on the function you are using.  String functions can be void or return and need to be used appropriately.  Useful string methods for our class include:\n",
    "* find(s, sub[, start[, end]])  - returns the lowest index where the substring is found\n",
    "* rfind(s, sub[, start[, end]]) - Like find() but find the highest index.\n",
    "* count(s, sub[, start[, end]]) - Return the number of (non-overlapping) occurrences of substring sub in string s[start:end].\n",
    "* lower(s) - Return a copy of s, but with upper case letters converted to lower case.\n",
    "* upper(s) - Return a copy of s, but with lower case letters converted to upper case.\n",
    "* strip(s[, chars]) - Return a copy of the string with leading and trailing characters removed.\n",
    "* rstrip(s[, chars]) - Return a copy of the string with trailing characters removed.\n",
    "The descriptions of these methods are abreviated and you should view the entire documentation for each method before using."
   ]
  },
  {
   "cell_type": "markdown",
   "metadata": {},
   "source": [
    "## Indexing Strings\n",
    "Strings are a sequence of characters and with many sequences you can identify specific elements based upon the position of the element.  We call this position the elements index.\n",
    "\n",
    "Python allow you to index a sequence from both the start and the end.  We use 0 and positive indices when indexing from the beginning, and we use negative indices when indexing from the end.  \n",
    "\n",
    "<table>\n",
    "    <tr>\n",
    "        <td>0</td><td>1</td><td>2</td><td>3</td><td>4</td><td>5</td>\n",
    "    </tr>\n",
    "    <tr>\n",
    "        <td>P</td><td>Y</td><td>T</td><td>H</td><td>O</td><td>N</td>\n",
    "    </tr>\n",
    "    <tr>\n",
    "        <td>-6</td><td>-5</td><td>-4</td><td>-3</td><td>-2</td><td>-1</td>\n",
    "    </tr>\n",
    "</table>\n",
    "\n",
    "To return a member of a sequence at a specific index we name the sequence and place the index in a set of square brackets \n",
    "For Example:"
   ]
  },
  {
   "cell_type": "code",
   "execution_count": 4,
   "metadata": {},
   "outputs": [
    {
     "name": "stdout",
     "output_type": "stream",
     "text": [
      "Character at index 2: T\n",
      "Character at index 0: P\n",
      "Character at index 5: N\n",
      "Character at index -1: N\n",
      "Character at index -4: T\n"
     ]
    },
    {
     "ename": "IndexError",
     "evalue": "string index out of range",
     "output_type": "error",
     "traceback": [
      "\u001b[0;31m---------------------------------------------------------------------------\u001b[0m",
      "\u001b[0;31mIndexError\u001b[0m                                Traceback (most recent call last)",
      "\u001b[0;32m<ipython-input-4-6573f79b5743>\u001b[0m in \u001b[0;36m<module>\u001b[0;34m\u001b[0m\n\u001b[1;32m      7\u001b[0m \u001b[0mprint\u001b[0m\u001b[0;34m(\u001b[0m\u001b[0;34m\"Character at index -4:\"\u001b[0m\u001b[0;34m,\u001b[0m\u001b[0mword\u001b[0m\u001b[0;34m[\u001b[0m\u001b[0;34m-\u001b[0m\u001b[0;36m4\u001b[0m\u001b[0;34m]\u001b[0m\u001b[0;34m)\u001b[0m\u001b[0;34m\u001b[0m\u001b[0;34m\u001b[0m\u001b[0m\n\u001b[1;32m      8\u001b[0m \u001b[0;34m\u001b[0m\u001b[0m\n\u001b[0;32m----> 9\u001b[0;31m \u001b[0mprint\u001b[0m\u001b[0;34m(\u001b[0m\u001b[0;34m\"Character at index 6:\"\u001b[0m\u001b[0;34m,\u001b[0m\u001b[0mword\u001b[0m\u001b[0;34m[\u001b[0m\u001b[0;36m6\u001b[0m\u001b[0;34m]\u001b[0m\u001b[0;34m)\u001b[0m\u001b[0;34m\u001b[0m\u001b[0;34m\u001b[0m\u001b[0m\n\u001b[0m",
      "\u001b[0;31mIndexError\u001b[0m: string index out of range"
     ]
    }
   ],
   "source": [
    "word = \"PYTHON\"\n",
    "print(\"Character at index 2:\", word[2])      #returns the character at index 2\n",
    "print(\"Character at index 0:\",word[0])\n",
    "print(\"Character at index 5:\",word[5])\n",
    "\n",
    "print(\"Character at index -1:\",word[-1])\n",
    "print(\"Character at index -4:\",word[-4])\n",
    "\n",
    "print(\"Character at index 6:\",word[6])"
   ]
  },
  {
   "cell_type": "markdown",
   "metadata": {},
   "source": [
    "Notice in the example above that you if you try to access an index that doesn't exist for the given sequence you get an index out of range exception.  The largest index of any sequence is the length of the sequence - 1 \n",
    "\n",
    "To find the length of any sequence we can use pythons built in len() method. For example"
   ]
  },
  {
   "cell_type": "code",
   "execution_count": 5,
   "metadata": {},
   "outputs": [
    {
     "name": "stdout",
     "output_type": "stream",
     "text": [
      "11\n"
     ]
    }
   ],
   "source": [
    "mySequence = \"Hello World\"\n",
    "print(len(mySequence))   #prints the number of characters in mySequence"
   ]
  },
  {
   "cell_type": "markdown",
   "metadata": {},
   "source": [
    "## Slicing Strings (Substrings)\n",
    "Strings can be broken into parts of strings.  These sections of the overal string are called slices or substrings.  Slicing a string is very similar to indexing a string but we would provide a start and stop value.  \n",
    "Specify the start index and the end index separated by a colon (note that the end index is not included in the slice)\n",
    "<table>\n",
    "    <tr>\n",
    "        <td>0</td><td>1</td><td>2</td><td>3</td><td>4</td><td>5</td>\n",
    "    </tr>\n",
    "    <tr>\n",
    "        <td>P</td><td>Y</td><td>T</td><td>H</td><td>O</td><td>N</td>\n",
    "    </tr>\n",
    "    <tr>\n",
    "        <td>-6</td><td>-5</td><td>-4</td><td>-3</td><td>-2</td><td>-1</td>\n",
    "    </tr>\n",
    "</table>"
   ]
  },
  {
   "cell_type": "code",
   "execution_count": 6,
   "metadata": {},
   "outputs": [
    {
     "name": "stdout",
     "output_type": "stream",
     "text": [
      "THO\n",
      "HON\n",
      "PYT\n",
      "YT\n",
      "PYTHO\n",
      "THON\n"
     ]
    }
   ],
   "source": [
    "mySlice = \"PYTHON\"\n",
    "print(mySlice[2: 5])     #slice from index 2 upto but not including index 5\n",
    "print(mySlice[3: 6])     #slice from index 3 upto but not including index 6   - Not a bounds error\n",
    "print(mySlice[0: 3])     #slice from index 0 upto but not including index 3\n",
    "\n",
    "#can be done with negetive values as well.  The smaller value must still be on the left and larger on the right\n",
    "print(mySlice[-5: -3])     #slice from index -5 upto but not including index -3\n",
    "\n",
    "#There are shortcuts for slices that start at the begining or stop at the end\n",
    "print(mySlice[ : 5])     #slice from the start of the string upto but not including index 5\n",
    "print(mySlice[2: ])     #slice from index 2 to the end of the string"
   ]
  },
  {
   "cell_type": "markdown",
   "metadata": {},
   "source": [
    "## Strings are Immutable Objects\n",
    "Object fall in to two categories: mutable or immutable.  Mutable objects are objects that can be changed during the process of your program. Immutable objects are just the opposite, they can not be changed during the processing of a program.  You may initially disagree with this but lets see 2 examples below"
   ]
  },
  {
   "cell_type": "code",
   "execution_count": 7,
   "metadata": {},
   "outputs": [
    {
     "name": "stdout",
     "output_type": "stream",
     "text": [
      "Attempt 1\n",
      "Game\n",
      "Lame\n",
      "\n",
      "Attempt 2\n"
     ]
    },
    {
     "ename": "TypeError",
     "evalue": "'str' object does not support item assignment",
     "output_type": "error",
     "traceback": [
      "\u001b[0;31m---------------------------------------------------------------------------\u001b[0m",
      "\u001b[0;31mTypeError\u001b[0m                                 Traceback (most recent call last)",
      "\u001b[0;32m<ipython-input-7-70b8f9aab671>\u001b[0m in \u001b[0;36m<module>\u001b[0;34m\u001b[0m\n\u001b[1;32m      8\u001b[0m \u001b[0mprint\u001b[0m\u001b[0;34m(\u001b[0m\u001b[0;34m\"\\nAttempt 2\"\u001b[0m\u001b[0;34m)\u001b[0m\u001b[0;34m\u001b[0m\u001b[0;34m\u001b[0m\u001b[0m\n\u001b[1;32m      9\u001b[0m \u001b[0mword\u001b[0m \u001b[0;34m=\u001b[0m \u001b[0;34m\"Game\"\u001b[0m\u001b[0;34m\u001b[0m\u001b[0;34m\u001b[0m\u001b[0m\n\u001b[0;32m---> 10\u001b[0;31m \u001b[0mword\u001b[0m\u001b[0;34m[\u001b[0m\u001b[0;36m0\u001b[0m\u001b[0;34m]\u001b[0m \u001b[0;34m=\u001b[0m \u001b[0;34m\"L\"\u001b[0m\u001b[0;34m\u001b[0m\u001b[0;34m\u001b[0m\u001b[0m\n\u001b[0m",
      "\u001b[0;31mTypeError\u001b[0m: 'str' object does not support item assignment"
     ]
    }
   ],
   "source": [
    "print(\"Attempt 1\")\n",
    "word = \"Game\"\n",
    "print(word)\n",
    "word = \"Lame\"\n",
    "print(word)\n",
    "\n",
    "#########   VS  ###########\n",
    "print(\"\\nAttempt 2\")\n",
    "word = \"Game\"\n",
    "word[0] = \"L\"\n"
   ]
  },
  {
   "cell_type": "markdown",
   "metadata": {},
   "source": [
    "In the example above you see me attempt to change the string word from Game to Lame.  I took two different approaches and achived it in only one senario.  In first attempt I successfully made the change but the string itself was not altered. I reassigned the variable to an entirely diffent string literal.  The variable is mutable.  \n",
    "\n",
    "In attempt 2 I tried to change a single character of the word.  This failed because the string itself is an immutable object.  You can not go into a string and change anything about it once it has been created.  The only way to change the string in the variable is to destroy it and reassign the variable to a new value.  "
   ]
  },
  {
   "cell_type": "code",
   "execution_count": null,
   "metadata": {},
   "outputs": [],
   "source": []
  }
 ],
 "metadata": {
  "kernelspec": {
   "display_name": "Python 3",
   "language": "python",
   "name": "python3"
  },
  "language_info": {
   "codemirror_mode": {
    "name": "ipython",
    "version": 3
   },
   "file_extension": ".py",
   "mimetype": "text/x-python",
   "name": "python",
   "nbconvert_exporter": "python",
   "pygments_lexer": "ipython3",
   "version": "3.7.6"
  }
 },
 "nbformat": 4,
 "nbformat_minor": 4
}
