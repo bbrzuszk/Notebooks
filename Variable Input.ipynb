{
 "cells": [
  {
   "cell_type": "markdown",
   "metadata": {},
   "source": [
    "# Variables and Input\n",
    "---\n"
   ]
  },
  {
   "cell_type": "markdown",
   "metadata": {},
   "source": [
    "## Vocabulary\n",
    "**Variable** - A named space in memory\n",
    "**Casting** - Changing the data type of a variable\n"
   ]
  },
  {
   "cell_type": "markdown",
   "metadata": {},
   "source": [
    "\n",
    "\n",
    "## Python Variables\n",
    "Variables are containers for storing data values.  Unlike other programming languages, Python has no command for declaring variabels. A variable is created the moment you first assign a value to it.  This make python a dynamically typed language and allows for variables to change data types during the programs execution\n",
    "\n"
   ]
  },
  {
   "cell_type": "code",
   "execution_count": 1,
   "metadata": {},
   "outputs": [],
   "source": [
    "#Example Variable Assignments\n",
    "x = 3\n",
    "distance = 5.671\n",
    "myName = \"Brandon\"\n",
    "play = False"
   ]
  },
  {
   "cell_type": "markdown",
   "metadata": {},
   "source": [
    "A variable can have a short name (like x and y) or a more descriptive name (age, carname, total_volume). Rules for Python variables:\n",
    "1. A variable name must start with a letter or the underscore character\n",
    "1. A variable name cannot start with a number\n",
    "1. A variable name can only contain alpha-numeric characters and underscores (A-z, 0-9, and _ )\n",
    "1. Variable names are case-sensitive (age, Age and AGE are three different variables)"
   ]
  },
  {
   "cell_type": "code",
   "execution_count": 2,
   "metadata": {},
   "outputs": [
    {
     "ename": "SyntaxError",
     "evalue": "invalid syntax (<ipython-input-2-a23a3e8b2732>, line 10)",
     "output_type": "error",
     "traceback": [
      "\u001b[0;36m  File \u001b[0;32m\"<ipython-input-2-a23a3e8b2732>\"\u001b[0;36m, line \u001b[0;32m10\u001b[0m\n\u001b[0;31m    2myvar = \"John\"\u001b[0m\n\u001b[0m         ^\u001b[0m\n\u001b[0;31mSyntaxError\u001b[0m\u001b[0;31m:\u001b[0m invalid syntax\n"
     ]
    }
   ],
   "source": [
    "#Legal variable names:\n",
    "myvar = \"John\"\n",
    "my_var = \"John\"\n",
    "_my_var = \"John\"\n",
    "myVar = \"John\"\n",
    "MYVAR = \"John\"\n",
    "myvar2 = \"John\"\n",
    "\n",
    "#Illegal variable names:\n",
    "2myvar = \"John\"\n",
    "my-var = \"John\"\n",
    "my var = \"John\""
   ]
  },
  {
   "cell_type": "markdown",
   "metadata": {},
   "source": [
    "## Variable Data Types\n",
    "\n",
    "In programming, data type is an important concept. Variables can store data of different types, and different types can do different things.\n",
    "Python has the following data types built-in by default, in these categories:\n",
    "\n",
    "| Category      | Python Type |\n",
    "| ------------  | ----------- |\n",
    "| Text Type     | str        |\n",
    "| Numeric       | int, float, complex |\n",
    "| Sequence      | list, tuple, range |\n",
    "| Mapping       | dict  |\n",
    "| Set           | set, frozenset |\n",
    "| Boolean       | bool  |\n",
    "\n",
    "*For the purposes of our discussion now we will be using the data types String, Integer, and float*\n",
    "\n",
    "\n"
   ]
  },
  {
   "cell_type": "code",
   "execution_count": 3,
   "metadata": {},
   "outputs": [
    {
     "name": "stdout",
     "output_type": "stream",
     "text": [
      "x is  <class 'int'>\n",
      "distance is <class 'float'>\n",
      "myName is <class 'str'>\n",
      "play is <class 'bool'>\n"
     ]
    }
   ],
   "source": [
    "# The type() function will return the data type of any variable\n",
    "# Using the variables from above we type them as such\n",
    "\n",
    "print(\"x is \", type(x))\n",
    "print(\"distance is\", type(distance))\n",
    "print(\"myName is\", type(myName))\n",
    "print(\"play is\", type(play))\n"
   ]
  },
  {
   "cell_type": "markdown",
   "metadata": {},
   "source": [
    "---\n",
    "## Casting\n",
    "\n",
    "Casting is a way to change the data type of a variable if possible.  Many times we would like to convert a String to an integer or vise versa.  Python has built in functions that can do this for us.  \n",
    "\n",
    "The three basic casting function are int(), float() and str()\n",
    "1. int() will convert (if possible) the passed argument to an integer and return its value\n",
    "1. float() will convert (if possible) the passed argument to a float and return its value\n",
    "1. str() will convert the passed argument to a string and return its value"
   ]
  },
  {
   "cell_type": "code",
   "execution_count": 4,
   "metadata": {},
   "outputs": [
    {
     "name": "stdout",
     "output_type": "stream",
     "text": [
      "35 <class 'str'>\n",
      "35 <class 'int'>\n"
     ]
    }
   ],
   "source": [
    "sValue = \"35\"\n",
    "print(sValue, type(sValue))\n",
    "value = int(sValue)  #Converts sValue to int and stores in value\n",
    "print(value, type(value))"
   ]
  },
  {
   "cell_type": "code",
   "execution_count": 5,
   "metadata": {},
   "outputs": [
    {
     "name": "stdout",
     "output_type": "stream",
     "text": [
      "3.14 <class 'float'>\n",
      "3 <class 'int'>\n",
      "3 <class 'str'>\n"
     ]
    }
   ],
   "source": [
    "dValue = 3.14\n",
    "print(dValue, type(dValue))\n",
    "value = int(dValue)  #Converts dValue to int and stores in value\n",
    "print(value, type(value))\n",
    "\n",
    "sValue = str(value)  #Converts value to a String and stores in sValue\n",
    "print(sValue, type(sValue))"
   ]
  },
  {
   "cell_type": "code",
   "execution_count": 6,
   "metadata": {},
   "outputs": [
    {
     "ename": "ValueError",
     "evalue": "invalid literal for int() with base 10: 'Forty Five'",
     "output_type": "error",
     "traceback": [
      "\u001b[0;31m---------------------------------------------------------------------------\u001b[0m",
      "\u001b[0;31mValueError\u001b[0m                                Traceback (most recent call last)",
      "\u001b[0;32m<ipython-input-6-ed5fcb06e083>\u001b[0m in \u001b[0;36m<module>\u001b[0;34m\u001b[0m\n\u001b[1;32m      1\u001b[0m \u001b[0;31m## The following conversion are impossible.  The int and float functions can only convert string version of valid numerical values\u001b[0m\u001b[0;34m\u001b[0m\u001b[0;34m\u001b[0m\u001b[0;34m\u001b[0m\u001b[0m\n\u001b[0;32m----> 2\u001b[0;31m \u001b[0mvalue\u001b[0m \u001b[0;34m=\u001b[0m \u001b[0mint\u001b[0m\u001b[0;34m(\u001b[0m\u001b[0;34m\"Forty Five\"\u001b[0m\u001b[0;34m)\u001b[0m\u001b[0;34m\u001b[0m\u001b[0;34m\u001b[0m\u001b[0m\n\u001b[0m\u001b[1;32m      3\u001b[0m \u001b[0mvalue\u001b[0m \u001b[0;34m=\u001b[0m \u001b[0mfloat\u001b[0m\u001b[0;34m(\u001b[0m\u001b[0;34m\"Two\"\u001b[0m\u001b[0;34m)\u001b[0m\u001b[0;34m\u001b[0m\u001b[0;34m\u001b[0m\u001b[0m\n",
      "\u001b[0;31mValueError\u001b[0m: invalid literal for int() with base 10: 'Forty Five'"
     ]
    }
   ],
   "source": [
    "## The following conversion are impossible.  The int and float functions can only convert string version of valid numerical values\n",
    "value = int(\"Forty Five\")\n",
    "value = float(\"Two\")"
   ]
  },
  {
   "cell_type": "markdown",
   "metadata": {},
   "source": [
    "---\n",
    "## User Input\n",
    "\n",
    "Python allows for user input. That means we are able to ask the user for input. Python 3 uses the input() method.  The following example asks for the username, and when you entered the username, it gets printed on the screen:"
   ]
  },
  {
   "cell_type": "code",
   "execution_count": 8,
   "metadata": {},
   "outputs": [
    {
     "name": "stdin",
     "output_type": "stream",
     "text": [
      "Enter username: Billy\n"
     ]
    },
    {
     "name": "stdout",
     "output_type": "stream",
     "text": [
      "Username is: Billy\n"
     ]
    }
   ],
   "source": [
    "username = input(\"Enter username:\")\n",
    "print(\"Username is: {}\".format(username))"
   ]
  },
  {
   "cell_type": "markdown",
   "metadata": {},
   "source": [
    "The input function will always return a value of type string.  To get a numeric type from your input funciton you will need to cast the string type to an integer or float. The following example will ask for 2 number and output the sum."
   ]
  },
  {
   "cell_type": "code",
   "execution_count": 9,
   "metadata": {},
   "outputs": [
    {
     "name": "stdin",
     "output_type": "stream",
     "text": [
      "Enter an integer value:  7\n",
      "Enter a float value:  3.14159\n"
     ]
    },
    {
     "name": "stdout",
     "output_type": "stream",
     "text": [
      "7 + 3.14159 = 10.14159\n"
     ]
    }
   ],
   "source": [
    "intInput = int(input(\"Enter an integer value: \"))\n",
    "floatInput = float(input(\"Enter a float value: \"))\n",
    "total = intInput + floatInput\n",
    "print(\"{} + {} = {}\".format(intInput, floatInput, total))"
   ]
  }
 ],
 "metadata": {
  "kernelspec": {
   "display_name": "Python 3",
   "language": "python",
   "name": "python3"
  },
  "language_info": {
   "codemirror_mode": {
    "name": "ipython",
    "version": 3
   },
   "file_extension": ".py",
   "mimetype": "text/x-python",
   "name": "python",
   "nbconvert_exporter": "python",
   "pygments_lexer": "ipython3",
   "version": "3.7.6"
  }
 },
 "nbformat": 4,
 "nbformat_minor": 4
}
