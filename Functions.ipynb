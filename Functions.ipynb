{
 "cells": [
  {
   "cell_type": "markdown",
   "metadata": {},
   "source": [
    "<h1>Python Functions</h1>\n",
    "<p> A function is a block of code which only runs when it is called.\n",
    "You can pass data, known as parameters, into a function.\n",
    "A function can return data as a result. <br><br>\n",
    "Python does not create different function heading for modules (void functions) vs functions (return functions).  All functions in python are technically return functions, but those that do not explicitly have a return statement return a value of <span style = \"color : orange\">None</span>\n",
    "</p>\n",
    "<h2>Creating a Function</h2>\n",
    "<p> In Python a function is defined using the <span style = \"color: red\">def</span> keyword:"
   ]
  },
  {
   "cell_type": "code",
   "execution_count": 1,
   "metadata": {},
   "outputs": [],
   "source": [
    "def greetings():\n",
    "    print(\"Hello from a function\")\n",
    "    print(\"This will only run if it's called\")"
   ]
  },
  {
   "cell_type": "markdown",
   "metadata": {},
   "source": [
    "<h2> Calling a Function</h2>\n",
    "<p>To call a function, use the function name followed by parenthesis</p>"
   ]
  },
  {
   "cell_type": "code",
   "execution_count": 2,
   "metadata": {},
   "outputs": [
    {
     "name": "stdout",
     "output_type": "stream",
     "text": [
      "Hello from a function\n",
      "This will only run if it's called\n"
     ]
    }
   ],
   "source": [
    "greetings()"
   ]
  },
  {
   "cell_type": "markdown",
   "metadata": {},
   "source": [
    "## Arguments and Parmeters\n",
    "The terms <span style = \"color: red\">parameter</span> and <span style = \"color: red\">argument</span> can be used for the same thing: information that are passed into a function.  From a functions (an my) perspective a <span style = \"color: red\">parameter</span> is the variable listed in a function definition.  An <span style = \"color: red\">argument</span> is the value that is sent to the function when it is called.\n",
    "\n",
    "#### Example \n",
    "Below is an example of a function that accepts a String as a parameter and uses it in the print statement.  The subsequent calls to the function use different arguments to be passed to the function and use appropriately."
   ]
  },
  {
   "cell_type": "code",
   "execution_count": 3,
   "metadata": {},
   "outputs": [
    {
     "name": "stdout",
     "output_type": "stream",
     "text": [
      "Hello Brandon, how are you today?\n",
      "Hello Patti, how are you today?\n",
      "Hello Chase, how are you today?\n"
     ]
    }
   ],
   "source": [
    "def betterGreeting(name):\n",
    "    print(\"Hello \"+ name +\", how are you today?\")\n",
    "    \n",
    "betterGreeting(\"Brandon\")\n",
    "betterGreeting(\"Patti\")\n",
    "betterGreeting(\"Chase\")"
   ]
  },
  {
   "cell_type": "markdown",
   "metadata": {},
   "source": [
    "### Number of Arguments\n",
    "\n",
    "Functions can have any number of arguments and parameters.  However the function call must send the required number of arguments for each parameter in the function definition.  Arguments are generally sent to the parameters by position (ie, the first argument value goes to the first parameter, second to second, and so on).  There are exceptions to this in python but we call these positional arguments\n",
    "\n",
    "#### For Example"
   ]
  },
  {
   "cell_type": "code",
   "execution_count": 4,
   "metadata": {},
   "outputs": [
    {
     "name": "stdout",
     "output_type": "stream",
     "text": [
      "First Call to subtraction()\n",
      "@param value1: 5\n",
      "@param value2: 3\n",
      "5 - 3 = 2\n",
      "\n",
      "Second call to subtraction()\n",
      "@param value1: 3\n",
      "@param value2: 5\n",
      "3 - 5 = -2\n"
     ]
    }
   ],
   "source": [
    "def subtraction(value1, value2):\n",
    "    print(\"@param value1: {}\".format(value1))\n",
    "    print(\"@param value2: {}\".format(value2))\n",
    "    print(\"{} - {} = {}\".format(value1, value2, value1 - value2))\n",
    "\n",
    "print(\"First Call to subtraction()\")\n",
    "subtraction(5,3)\n",
    "\n",
    "print(\"\\nSecond call to subtraction()\")\n",
    "subtraction(3,5)"
   ]
  },
  {
   "cell_type": "markdown",
   "metadata": {},
   "source": [
    "## Return Functions\n",
    "\n",
    "All of the functions above were <span style = \"color: red\">void</span> functions.  They help break down our programs into meanningful tasks but they do not give information back to the part of the program calling the function\n",
    "\n",
    "<span style = \"color: red\">Return</span> functions have all the same features but also give information back to the part of the program calling the function.  When calling these function you must use them as part of a programming statement (an assignment statement, an argument to another function, a condition for a loop or selection structure...)"
   ]
  },
  {
   "cell_type": "code",
   "execution_count": 5,
   "metadata": {},
   "outputs": [
    {
     "name": "stdout",
     "output_type": "stream",
     "text": [
      "Test Average is: 84.0\n",
      "\n",
      "\n",
      "Your scores are above average for the class\n",
      "\n",
      "\n",
      "@param value1: 6.0\n",
      "@param value2: 3\n",
      "6.0 - 3 = 3.0\n"
     ]
    }
   ],
   "source": [
    "def getAverage(num1, num2, num3):\n",
    "    total = num1 + num2 + num3\n",
    "    average = total / 3\n",
    "    return average\n",
    "\n",
    "testAverage = getAverage(75, 82, 95)  #Using it in an assignment statement\n",
    "print(\"Test Average is:\", testAverage)\n",
    "print(\"\\n\")\n",
    "\n",
    "if getAverage(90, 85, 72) >= 80:      #Using it in a condition\n",
    "    print(\"Your scores are above average for the class\")\n",
    "else:\n",
    "    print(\"Your scores are average or below average for the class\")\n",
    "print(\"\\n\")\n",
    "\n",
    "subtraction(getAverage(6, 4, 8), 3)    #Using it as an argument to another function"
   ]
  },
  {
   "cell_type": "code",
   "execution_count": null,
   "metadata": {},
   "outputs": [],
   "source": []
  }
 ],
 "metadata": {
  "kernelspec": {
   "display_name": "Python 3",
   "language": "python",
   "name": "python3"
  },
  "language_info": {
   "codemirror_mode": {
    "name": "ipython",
    "version": 3
   },
   "file_extension": ".py",
   "mimetype": "text/x-python",
   "name": "python",
   "nbconvert_exporter": "python",
   "pygments_lexer": "ipython3",
   "version": "3.7.6"
  }
 },
 "nbformat": 4,
 "nbformat_minor": 4
}
