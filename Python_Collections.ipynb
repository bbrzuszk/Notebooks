{
 "cells": [
  {
   "cell_type": "markdown",
   "metadata": {},
   "source": [
    "# Python Lists\n",
    "There are four collection data types in Python\n",
    "1. A List in an ordered and mutable collection.  It allows for duplicate memebers\n",
    "1. A Tuple is an ordered and immutable collection. It allows for duplicated memebers\n",
    "1. A set is an unordered and unindexed collection.  No duplicate memebers are allowed\n",
    "1. A Dictionary is an unordered, indexed, and mutable collection. No duplicate members are allowed\n",
    "\n",
    "When choosing a collection type, it is useful to understand the properties of that type. Choosing the right type for a data set helps maintain informations meaning, purpose, efficiency, and security.\n"
   ]
  },
  {
   "cell_type": "markdown",
   "metadata": {},
   "source": [
    "## Lists\n",
    "A list is a collection which is ordered and changeable. In Python lists are written with square brackets. To create a list we assign a variable to items held in square brackets separated by commas.\n",
    "\n",
    "Accessing items of a list is done through indexing.  We simply name the list and use an integer in square brackets to access that specific member.  As with other sequences they can be indexed using positive integers and negative integers.  \n",
    "\n",
    "Lists can also be sliced in the same manner strings can be sliced. We can access a range of indexes by specifiying the start and end to a range of items in the list"
   ]
  },
  {
   "cell_type": "code",
   "execution_count": 1,
   "metadata": {},
   "outputs": [
    {
     "name": "stdout",
     "output_type": "stream",
     "text": [
      "['Cherry', 'Apple', 'Kiwi', 'Mango']\n",
      "The best fruit is: Kiwi\n",
      "Last fruit in the list is: Mango\n",
      "A few of the fruits from the list are: ['Cherry', 'Apple']\n"
     ]
    }
   ],
   "source": [
    "#Building a List\n",
    "fruits = [\"Cherry\", \"Apple\", \"Kiwi\", \"Mango\"]       #Inititalizing the list\n",
    "print(fruits)                                       #printing the contents of the list\n",
    "\n",
    "#Accessing Members\n",
    "bestFruit = fruits[2]                               #Accessing kiwi from fruits and assigning it to bestFruit\n",
    "print(f\"The best fruit is: {bestFruit}\")\n",
    "\n",
    "lastFruit = fruits[-1]                              #Accessing the last item in the list with a -1 index\n",
    "print(f\"Last fruit in the list is: {lastFruit}\")\n",
    "\n",
    "coupleFruits = fruits[ : 2]                         #Accessing a range of fruits.  Copies items in range to another list\n",
    "print(f\"A few of the fruits from the list are: {coupleFruits}\")"
   ]
  },
  {
   "cell_type": "markdown",
   "metadata": {},
   "source": [
    "## Lists Are Mutable\n",
    "You can change the member of a list by reassigning the value at a given index."
   ]
  },
  {
   "cell_type": "code",
   "execution_count": 2,
   "metadata": {},
   "outputs": [
    {
     "name": "stdout",
     "output_type": "stream",
     "text": [
      "['Cherry', 'Apple', 'Kiwi', 'Mango']\n",
      "['Banana', 'Apple', 'Stawberries', 'Mango']\n"
     ]
    }
   ],
   "source": [
    "fruits = [\"Cherry\", \"Apple\", \"Kiwi\", \"Mango\"]       #Inititalizing the list\n",
    "print(fruits)                                       #printing the contents of the list\n",
    "\n",
    "#Changing members\n",
    "fruits[2] = \"Stawberries\"           #changing the item at index 2   \n",
    "fruits[0] = \"Banana\"                #changing the item at index 0\n",
    "print(fruits)"
   ]
  },
  {
   "cell_type": "markdown",
   "metadata": {},
   "source": [
    "## Looping Through a List\n",
    "Accessing multiple members of a list individually allows us to process the members of the list efficiently.  Since the members are indexed and a list is a sequence we can iterate over the list in different ways.  How you choose to iterate over the contents of the list is dependent on how you are going to use the members of the list.  \n",
    "\n",
    "Using a while loop will allow you to access the member through their index.  This gives you the ability to know the specific members location (index) and allow you to change the member if necessary\n",
    "\n",
    "Using a for loop will give you access to each member with out knowing the index.  This is best used for read only purposes, where you need to know what each member is but it is unnecessary to know it's location. "
   ]
  },
  {
   "cell_type": "code",
   "execution_count": 3,
   "metadata": {},
   "outputs": [
    {
     "name": "stdout",
     "output_type": "stream",
     "text": [
      "['Cherry', 'Apple', 'Kiwi', 'Mango']\n",
      "\n",
      "Using a while loop\n",
      "Cherry Apple Kiwi Mango \n",
      "\n",
      "Using a for loop\n",
      "Cherry Apple Kiwi Mango "
     ]
    }
   ],
   "source": [
    "fruits = [\"Cherry\", \"Apple\", \"Kiwi\", \"Mango\"]       #Inititalizing the list\n",
    "print(fruits)                                       #printing the contents of the list\n",
    "\n",
    "#Using a While loop for access\n",
    "print(\"\\nUsing a while loop\")\n",
    "index = 0                                 #initialize the control variable (index to start)\n",
    "while index < len(fruits):                #Loop while the index is in bounds (less than length of the list)\n",
    "    print(fruits[index], end = \" \")       #access the member of the list at the given index\n",
    "    index += 1                            #modify the control variable (change the index to the next one)\n",
    "    \n",
    "print(\"\\n\\nUsing a for loop\")    \n",
    "#Using a For loop for access\n",
    "for fruit in fruits:                     #create a control variable(fruit) in the for loop to catch each member of the sequence(fruits)\n",
    "    print(fruit, end = \" \")              #use the value caught by the control variable in meaningful way"
   ]
  },
  {
   "cell_type": "markdown",
   "metadata": {},
   "source": [
    "## Methods and Built in Functions for Lists\n",
    "Python collections have many functions (methods) that we can apply to the list.  There are also many built in python functions that we can apply to many collections and sequences.  Below are a few that we will likely use throughout class, but you can visit https://docs.python.org/3/tutorial/datastructures.html for the full documentation\n",
    "\n",
    "**Useful Built-In Functions**\n",
    "- len() - pass in any sequence or collection and it will return the number of element or members\n",
    "- print() - pass in a list as an argument at it will print the contents of the list in [ ] \n",
    "- max() - pass in a list of numerical values and it will return the largest of the values\n",
    "- min() - pass in a list of numerical values and it will return the smallest of the values\n",
    "- sum() - pass in a list of numerical values and it will return the sum of the values\n",
    "\n",
    "**Useful List Methods**\n",
    "- append(x) - pass in an item you want to add to the end of the list\n",
    "- inser(i, x) - pass in an item (x) you want to add into the list at index  (i) all previous items from i down will increase in index by 1\n",
    "- remove(x) - pass in an item (x) you want to remove from the list. It will remove the first occurance of x\n",
    "- pop(i) - pass in an integer index (i) for the position of an element you want to remove from the list. This will return the item you have removed from the list\n",
    "- count(x) - will return the number of occurances of the item passed by parameter(x)\n",
    "- sort() - this will sort the list\n",
    "- reverse() - this will reverse the contents of the list\n"
   ]
  },
  {
   "cell_type": "code",
   "execution_count": 4,
   "metadata": {},
   "outputs": [
    {
     "name": "stdout",
     "output_type": "stream",
     "text": [
      "\n",
      "Built In Functions\n",
      "Numbers: [3, 2, 6, 7, 4, 1, 5, 4, 5, 9]\n",
      "Lenght of numbers: 10\n",
      "Max Value: 9\n",
      "Min Value: 1\n",
      "Sum of Values: 46\n",
      "\n",
      "\n",
      "Methods of Lists\n",
      "Numbers: [3, 2, 6, 7, 4, 1, 5, 4, 5, 9]\n",
      "Numbers: [3, 2, 6, 7, 4, 1, 5, 4, 5, 9, 8]\n",
      "Numbers: [3, 2, 6, 5, 7, 4, 1, 5, 4, 5, 9, 8]\n",
      "Numbers: [3, 2, 6, 7, 4, 1, 5, 4, 5, 9, 8]\n",
      "Numbers: [3, 2, 6, 7, 4, 5, 4, 5, 9, 8], value removed: 1\n",
      "5 appears in number: 2 times\n",
      "Numbers: [2, 3, 4, 4, 5, 5, 6, 7, 8, 9]\n",
      "Numbers: [9, 8, 7, 6, 5, 5, 4, 4, 3, 2]\n"
     ]
    }
   ],
   "source": [
    "#Methods Testing\n",
    "numbers = [3,2,6,7,4,1,5,4,5,9]              #initialize a list of digits\n",
    "print(\"\\nBuilt In Functions\")\n",
    "print(f\"Numbers: {numbers}\")\n",
    "print(f\"Lenght of numbers: {len(numbers)}\")  #Use len() to show size of the list\n",
    "print(f\"Max Value: {max(numbers)}\")          #finds max value in list\n",
    "print(f\"Min Value: {min(numbers)}\")          #find the min value in list\n",
    "print(f\"Sum of Values: {sum(numbers)}\")      #sums the values in list\n",
    "\n",
    "print(\"\\n\\nMethods of Lists\")\n",
    "print(f\"Numbers: {numbers}\")\n",
    "numbers.append(8)                           #Appends and 8 to the end of the list\n",
    "print(f\"Numbers: {numbers}\")\n",
    "numbers.insert(3, 5)                        #inserts a 5 at index 3\n",
    "print(f\"Numbers: {numbers}\")\n",
    "numbers.remove(5)                           #removes the first occurance of a 5 in the list\n",
    "print(f\"Numbers: {numbers}\")\n",
    "value = numbers.pop(5)                      #removes the element at index 5 and returns it for use (if you need it)\n",
    "print(f\"Numbers: {numbers}, value removed: {value}\")\n",
    "occurances = numbers.count(5)               #returns the number of occurances of \n",
    "print(f\"5 appears in number: {occurances} times\")\n",
    "numbers.sort()                              #sorts the list\n",
    "print(f\"Numbers: {numbers}\")\n",
    "numbers.reverse()                           #reverses the contents of the list\n",
    "print(f\"Numbers: {numbers}\")"
   ]
  },
  {
   "cell_type": "code",
   "execution_count": null,
   "metadata": {},
   "outputs": [],
   "source": []
  }
 ],
 "metadata": {
  "kernelspec": {
   "display_name": "Python 3",
   "language": "python",
   "name": "python3"
  },
  "language_info": {
   "codemirror_mode": {
    "name": "ipython",
    "version": 3
   },
   "file_extension": ".py",
   "mimetype": "text/x-python",
   "name": "python",
   "nbconvert_exporter": "python",
   "pygments_lexer": "ipython3",
   "version": "3.7.6"
  }
 },
 "nbformat": 4,
 "nbformat_minor": 4
}
