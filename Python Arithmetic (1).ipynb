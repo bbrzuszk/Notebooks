{
 "cells": [
  {
   "cell_type": "markdown",
   "metadata": {},
   "source": [
    "# Python Arithmetic Operators\n",
    "\n",
    "Operators are used to perform operations on variables and values.\n",
    "\n",
    "| Operator | Name |\tExample\t|\n",
    "| ---------- | ---- | --------------- |\n",
    "| + | Addition | x + y\t|\n",
    "| - |\tSubtraction\t| x - y\t |\n",
    "| * |\tMultiplication | x * y\t|\n",
    "| / |\tDivision | x / y |\t\n",
    "| % |\tModulus | x % y\t|\n",
    "| ** |\tExponentiation | x ** y |\t\n",
    "| // |\tFloor division | x // y |\n",
    "\n"
   ]
  },
  {
   "cell_type": "markdown",
   "metadata": {},
   "source": [
    "**Addition**"
   ]
  },
  {
   "cell_type": "code",
   "execution_count": 9,
   "metadata": {},
   "outputs": [
    {
     "name": "stdout",
     "output_type": "stream",
     "text": [
      "7\n",
      "5.146\n",
      "6.0\n",
      "75\n"
     ]
    },
    {
     "ename": "TypeError",
     "evalue": "can only concatenate str (not \"int\") to str",
     "output_type": "error",
     "traceback": [
      "\u001b[0;31m---------------------------------------------------------------------------\u001b[0m",
      "\u001b[0;31mTypeError\u001b[0m                                 Traceback (most recent call last)",
      "\u001b[0;32m<ipython-input-9-28c2a567e286>\u001b[0m in \u001b[0;36m<module>\u001b[0;34m\u001b[0m\n\u001b[1;32m      3\u001b[0m \u001b[0mprint\u001b[0m\u001b[0;34m(\u001b[0m\u001b[0;36m2.5\u001b[0m \u001b[0;34m+\u001b[0m \u001b[0;36m3.5\u001b[0m\u001b[0;34m)\u001b[0m   \u001b[0;31m#float + float = float\u001b[0m\u001b[0;34m\u001b[0m\u001b[0;34m\u001b[0m\u001b[0m\n\u001b[1;32m      4\u001b[0m \u001b[0mprint\u001b[0m\u001b[0;34m(\u001b[0m\u001b[0;34m\"7\"\u001b[0m \u001b[0;34m+\u001b[0m \u001b[0;34m\"5\"\u001b[0m\u001b[0;34m)\u001b[0m   \u001b[0;31m#str + str = str\u001b[0m\u001b[0;34m\u001b[0m\u001b[0;34m\u001b[0m\u001b[0m\n\u001b[0;32m----> 5\u001b[0;31m \u001b[0mprint\u001b[0m\u001b[0;34m(\u001b[0m\u001b[0;34m\"3\"\u001b[0m \u001b[0;34m+\u001b[0m \u001b[0;36m4\u001b[0m\u001b[0;34m)\u001b[0m     \u001b[0;31m#str + int or float = Error\u001b[0m\u001b[0;34m\u001b[0m\u001b[0;34m\u001b[0m\u001b[0m\n\u001b[0m",
      "\u001b[0;31mTypeError\u001b[0m: can only concatenate str (not \"int\") to str"
     ]
    }
   ],
   "source": [
    "print(5 + 2)       #int + int = int\n",
    "print(3 + 2.146)   #int + float = float\n",
    "print(2.5 + 3.5)   #float + float = float\n",
    "print(\"7\" + \"5\")   #str + str = str\n",
    "print(\"3\" + 4)     #str + int or float = Error"
   ]
  },
  {
   "cell_type": "markdown",
   "metadata": {},
   "source": [
    "**Subtraction**"
   ]
  },
  {
   "cell_type": "code",
   "execution_count": 10,
   "metadata": {},
   "outputs": [
    {
     "name": "stdout",
     "output_type": "stream",
     "text": [
      "3\n",
      "0.8540000000000001\n",
      "-1.0\n"
     ]
    }
   ],
   "source": [
    "print(5 - 2)       #int - int = int\n",
    "print(3 - 2.146)   #int - float = float\n",
    "print(2.5 - 3.5)   #float - float = float\n",
    "                   ## There is no subtraction with strings"
   ]
  },
  {
   "cell_type": "markdown",
   "metadata": {},
   "source": [
    "**Multiplication**"
   ]
  },
  {
   "cell_type": "code",
   "execution_count": 11,
   "metadata": {},
   "outputs": [
    {
     "name": "stdout",
     "output_type": "stream",
     "text": [
      "10\n",
      "6.438\n",
      "8.75\n",
      "77777\n"
     ]
    },
    {
     "ename": "TypeError",
     "evalue": "can only concatenate str (not \"float\") to str",
     "output_type": "error",
     "traceback": [
      "\u001b[0;31m---------------------------------------------------------------------------\u001b[0m",
      "\u001b[0;31mTypeError\u001b[0m                                 Traceback (most recent call last)",
      "\u001b[0;32m<ipython-input-11-e827ce68f438>\u001b[0m in \u001b[0;36m<module>\u001b[0;34m\u001b[0m\n\u001b[1;32m      3\u001b[0m \u001b[0mprint\u001b[0m\u001b[0;34m(\u001b[0m\u001b[0;36m2.5\u001b[0m \u001b[0;34m*\u001b[0m \u001b[0;36m3.5\u001b[0m\u001b[0;34m)\u001b[0m   \u001b[0;31m#float * float = float\u001b[0m\u001b[0;34m\u001b[0m\u001b[0;34m\u001b[0m\u001b[0m\n\u001b[1;32m      4\u001b[0m \u001b[0mprint\u001b[0m\u001b[0;34m(\u001b[0m\u001b[0;34m\"7\"\u001b[0m \u001b[0;34m*\u001b[0m \u001b[0;36m5\u001b[0m\u001b[0;34m)\u001b[0m     \u001b[0;31m#str * int = str\u001b[0m\u001b[0;34m\u001b[0m\u001b[0;34m\u001b[0m\u001b[0m\n\u001b[0;32m----> 5\u001b[0;31m \u001b[0mprint\u001b[0m\u001b[0;34m(\u001b[0m\u001b[0;34m\"3\"\u001b[0m \u001b[0;34m+\u001b[0m \u001b[0;36m4.5\u001b[0m\u001b[0;34m)\u001b[0m   \u001b[0;31m#str * float or str = Error\u001b[0m\u001b[0;34m\u001b[0m\u001b[0;34m\u001b[0m\u001b[0m\n\u001b[0m",
      "\u001b[0;31mTypeError\u001b[0m: can only concatenate str (not \"float\") to str"
     ]
    }
   ],
   "source": [
    "print(5 * 2)       #int * int = int\n",
    "print(3 * 2.146)   #int * float = float\n",
    "print(2.5 * 3.5)   #float * float = float\n",
    "print(\"7\" * 5)     #str * int = str\n",
    "print(\"3\" + 4.5)   #str * float or str = Error"
   ]
  },
  {
   "cell_type": "markdown",
   "metadata": {},
   "source": [
    "**Real Division**"
   ]
  },
  {
   "cell_type": "code",
   "execution_count": 12,
   "metadata": {},
   "outputs": [
    {
     "name": "stdout",
     "output_type": "stream",
     "text": [
      "2.5\n",
      "2.0\n",
      "0.7142857142857143\n"
     ]
    }
   ],
   "source": [
    "print(5 / 2)       #int / int = float\n",
    "print(4 / 2)       #int / int = float    even if there is not decimal to be had it will always result in float (2.0)\n",
    "print(2.5 / 3.5)   #float / float = float"
   ]
  },
  {
   "cell_type": "markdown",
   "metadata": {},
   "source": [
    "**Floor Division**"
   ]
  },
  {
   "cell_type": "code",
   "execution_count": 13,
   "metadata": {},
   "outputs": [
    {
     "name": "stdout",
     "output_type": "stream",
     "text": [
      "2\n",
      "2\n",
      "2.0\n"
     ]
    }
   ],
   "source": [
    "print(5 // 2)       #int / int = int    but rounded down\n",
    "print(4 // 2)       #int / int = int    \n",
    "print(5.5 // 2.0)    #float / float = float  but rounded down"
   ]
  },
  {
   "cell_type": "markdown",
   "metadata": {},
   "source": [
    "**Modulus** or Remainder Division"
   ]
  },
  {
   "cell_type": "code",
   "execution_count": 14,
   "metadata": {},
   "outputs": [
    {
     "name": "stdout",
     "output_type": "stream",
     "text": [
      "1\n",
      "0\n",
      "3\n"
     ]
    }
   ],
   "source": [
    "print(5 % 2)       #int % int = int    \n",
    "print(4 % 2)          \n",
    "print(23 % 4)      "
   ]
  },
  {
   "cell_type": "markdown",
   "metadata": {},
   "source": [
    "**Exponentiation**"
   ]
  },
  {
   "cell_type": "code",
   "execution_count": 15,
   "metadata": {},
   "outputs": [
    {
     "name": "stdout",
     "output_type": "stream",
     "text": [
      "8\n",
      "9.0\n",
      "68.92099999999998\n"
     ]
    }
   ],
   "source": [
    "print(2**3)      #int ** int = int\n",
    "print(3**2.0)    #int ** float = float\n",
    "print(4.1 ** 3)  #float ** int = float"
   ]
  },
  {
   "cell_type": "markdown",
   "metadata": {},
   "source": [
    "-----\n",
    "# Python Assignment Operators\n",
    "\n",
    "| Operator | Example | Same As |\n",
    "| -------- | -------- |------- |\n",
    "| = | x = 5\t| x = 5\t |\n",
    "| += | x += 3 | x = x + 3 |\t\n",
    "| -= | x -= 3 | x = x - 3 |\t\n",
    "| *= | x *= 3 | x = x * 3 |\t\n",
    "| /= | x /= 3 | x = x / 3 |\t\n",
    "| %= | x %= 3 | x = x % 3 |\t\n",
    "| //= | x //= 3 | x = x // 3 |\t\n",
    "| **= | x **= 3 | x = x ** 3 |\n",
    "\n",
    "*for example*"
   ]
  },
  {
   "cell_type": "code",
   "execution_count": 16,
   "metadata": {},
   "outputs": [
    {
     "name": "stdout",
     "output_type": "stream",
     "text": [
      "2\n",
      "5\n",
      "4\n",
      "8\n"
     ]
    }
   ],
   "source": [
    "x = 2\n",
    "print(x)\n",
    "x += 3\n",
    "print(x)\n",
    "x -= 1\n",
    "print(x)\n",
    "x *= 2\n",
    "print(x)"
   ]
  }
 ],
 "metadata": {
  "kernelspec": {
   "display_name": "Python 3",
   "language": "python",
   "name": "python3"
  },
  "language_info": {
   "codemirror_mode": {
    "name": "ipython",
    "version": 3
   },
   "file_extension": ".py",
   "mimetype": "text/x-python",
   "name": "python",
   "nbconvert_exporter": "python",
   "pygments_lexer": "ipython3",
   "version": "3.7.6"
  }
 },
 "nbformat": 4,
 "nbformat_minor": 4
}
