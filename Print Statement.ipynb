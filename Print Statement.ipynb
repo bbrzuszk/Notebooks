{
 "cells": [
  {
   "cell_type": "markdown",
   "metadata": {},
   "source": [
    "# The Python Print Statement\n",
    "\n",
    "## Vocabulary \n",
    "\n",
    "**print()** - a built in function that allows the user to display information to the console\n",
    "\n",
    "**String** - A collection of characters\n",
    "\n",
    "**String Literal** - A collection of characters inclosed in a set of quotation marks (either single ' or double \" quotation marks)\n",
    "\n",
    "**Console** - An area to execute, give input too, and get output from your program\n",
    "\n",
    "**Arguments** - a value passed to a function. For example print(\"hello\") - hello is the argument to the print function\n",
    "\n",
    "\n"
   ]
  },
  {
   "cell_type": "markdown",
   "metadata": {},
   "source": [
    "## Abstract\n",
    "The print statement allows you to print text and information to the console. The python print() function is a built in function that you can call and pass in any number of arguments.\n",
    "\n",
    "Example of a simple print statement"
   ]
  },
  {
   "cell_type": "code",
   "execution_count": 1,
   "metadata": {},
   "outputs": [
    {
     "name": "stdout",
     "output_type": "stream",
     "text": [
      "Hello World\n"
     ]
    }
   ],
   "source": [
    "print(\"Hello World\")"
   ]
  },
  {
   "cell_type": "markdown",
   "metadata": {},
   "source": [
    "In the statement above the print function is called with a single string argument.  "
   ]
  },
  {
   "cell_type": "markdown",
   "metadata": {
    "raw_mimetype": "text/markdown"
   },
   "source": [
    "## Print statement Variations"
   ]
  },
  {
   "cell_type": "markdown",
   "metadata": {},
   "source": [
    "**No Argument Print Statement**"
   ]
  },
  {
   "cell_type": "code",
   "execution_count": 2,
   "metadata": {},
   "outputs": [
    {
     "name": "stdout",
     "output_type": "stream",
     "text": [
      "line 1\n",
      "\n",
      "line 2\n"
     ]
    }
   ],
   "source": [
    "print(\"line 1\")\n",
    "print()\n",
    "print(\"line 2\")"
   ]
  },
  {
   "cell_type": "markdown",
   "metadata": {},
   "source": [
    "In the above you can see that a print statement with no argument creates a blank line between the output of line 1 and line 2\n",
    "\n",
    "**Quotation Marks**"
   ]
  },
  {
   "cell_type": "code",
   "execution_count": 3,
   "metadata": {},
   "outputs": [
    {
     "name": "stdout",
     "output_type": "stream",
     "text": [
      "It's Nice to meet you\n",
      "\"What ever you do, do it well\", Walt Disney\n"
     ]
    }
   ],
   "source": [
    "print(\"It's Nice to meet you\")\n",
    "print('\"What ever you do, do it well\", Walt Disney')"
   ]
  },
  {
   "cell_type": "markdown",
   "metadata": {},
   "source": [
    "In the above you can see different ways to use quotation marks in string literals.  You can use the opposite style of quote to allow you to display a quotation mark in the output of your string literal.  \n",
    "\n",
    "For example attempting to display double quotes in a string that is encapsulated in double quotes with out an escape sequence will result in an error"
   ]
  },
  {
   "cell_type": "code",
   "execution_count": 4,
   "metadata": {},
   "outputs": [
    {
     "ename": "SyntaxError",
     "evalue": "invalid syntax (<ipython-input-4-7b7567cfe6f2>, line 1)",
     "output_type": "error",
     "traceback": [
      "\u001b[0;36m  File \u001b[0;32m\"<ipython-input-4-7b7567cfe6f2>\"\u001b[0;36m, line \u001b[0;32m1\u001b[0m\n\u001b[0;31m    print(\"Quotes in \"Quotes\"\")\u001b[0m\n\u001b[0m                           ^\u001b[0m\n\u001b[0;31mSyntaxError\u001b[0m\u001b[0;31m:\u001b[0m invalid syntax\n"
     ]
    }
   ],
   "source": [
    "print(\"Quotes in \"Quotes\"\")"
   ]
  },
  {
   "cell_type": "markdown",
   "metadata": {},
   "source": [
    "**Escape Sequences**"
   ]
  },
  {
   "cell_type": "code",
   "execution_count": 5,
   "metadata": {},
   "outputs": [
    {
     "name": "stdout",
     "output_type": "stream",
     "text": [
      "Line 1 \n",
      "Line 2\n",
      "\n",
      "\n",
      "Time \t after \t time\n"
     ]
    }
   ],
   "source": [
    "print(\"Line 1 \\nLine 2\\n\\n\")\n",
    "print(\"Time \\t after \\t time\")"
   ]
  },
  {
   "attachments": {
    "Escape%20Sequences.PNG": {
     "image/png": "[encoded data removed]"
    }
   },
   "cell_type": "markdown",
   "metadata": {},
   "source": [
    "In the above you can see special characters denoted with a \\ followed by a special character.  The \\ begins an escape sequence and allows us to add another character to do something special with in the string literal to effect the output.  \n",
    "Above you see a '\\n' which inserts a new line when the character is read\n",
    "Above you see a '\\t' which inserts a horizontal tab when the character is read.\n",
    "\n",
    "See below for valid escape sequences and try them out.  \n",
    "![Escape%20Sequences.PNG](attachment:Escape%20Sequences.PNG)"
   ]
  },
  {
   "cell_type": "markdown",
   "metadata": {},
   "source": [
    "**Additional Arguments**"
   ]
  },
  {
   "cell_type": "code",
   "execution_count": 6,
   "metadata": {},
   "outputs": [
    {
     "name": "stdout",
     "output_type": "stream",
     "text": [
      "This shows the end keyword argument And it's printing on the same line\n"
     ]
    }
   ],
   "source": [
    "print(\"This shows the end keyword argument\", end = \" \")\n",
    "print(\"And it's printing on the same line\")"
   ]
  },
  {
   "cell_type": "markdown",
   "metadata": {},
   "source": [
    "The end keyword argument is a way to get the print statement to do something other than print a new line at the end of the literal string\n"
   ]
  },
  {
   "cell_type": "code",
   "execution_count": 7,
   "metadata": {},
   "outputs": [
    {
     "name": "stdout",
     "output_type": "stream",
     "text": [
      "Hello Brandon\n"
     ]
    }
   ],
   "source": [
    "name = \"Brandon\"\n",
    "print(\"Hello\", name)"
   ]
  },
  {
   "cell_type": "markdown",
   "metadata": {},
   "source": [
    "This shows that additional arguments can be made that hold value.  These variables can be used to create output that is dynamic with your program."
   ]
  },
  {
   "cell_type": "markdown",
   "metadata": {},
   "source": [
    "## The String format() method\n",
    "\n",
    "The format method for a String is also very useful in a print statement.  Rather than separating your print statements with multiple arguments and have very little control over the format of the string, you can use the format method to insert values from variable or values from other sources into your output with total control"
   ]
  },
  {
   "cell_type": "code",
   "execution_count": 8,
   "metadata": {},
   "outputs": [
    {
     "name": "stdout",
     "output_type": "stream",
     "text": [
      "Hello Brandon Brzuszkiewicz it is nice to meet you\n"
     ]
    }
   ],
   "source": [
    "firstName = \"Brandon\"\n",
    "lastName = \"Brzuszkiewicz\"\n",
    "print(\"Hello {} {} it is nice to meet you\".format(firstName, lastName))"
   ]
  },
  {
   "cell_type": "markdown",
   "metadata": {},
   "source": [
    "For full documentation on the String format method and how it can be applied visit [String Format Python Docs](https://docs.python.org/3/tutorial/inputoutput.html)"
   ]
  },
  {
   "cell_type": "markdown",
   "metadata": {},
   "source": [
    "**Tripple Quoted Strings**\n",
    "An interesting way to format output is with a tripple quoted string.  A literal string wrapped in a set of tripple quotes will not only dispay the string but also maintain the formatting the string is written in, included carraige returns"
   ]
  },
  {
   "cell_type": "code",
   "execution_count": 9,
   "metadata": {},
   "outputs": [
    {
     "name": "stdout",
     "output_type": "stream",
     "text": [
      "\n",
      "This is a formated output\n",
      "     Notice that the indentation and spacing is followed\n",
      "       When we        do this type of string \n",
      "when compared to the output\n",
      "\n"
     ]
    }
   ],
   "source": [
    "print('''\n",
    "This is a formated output\n",
    "     Notice that the indentation and spacing is followed\n",
    "       When we        do this type of string \n",
    "when compared to the output\n",
    "''')\n"
   ]
  }
 ],
 "metadata": {
  "celltoolbar": "Raw Cell Format",
  "kernelspec": {
   "display_name": "Python 3",
   "language": "python",
   "name": "python3"
  },
  "language_info": {
   "codemirror_mode": {
    "name": "ipython",
    "version": 3
   },
   "file_extension": ".py",
   "mimetype": "text/x-python",
   "name": "python",
   "nbconvert_exporter": "python",
   "pygments_lexer": "ipython3",
   "version": "3.7.6"
  },
  "widgets": {
   "application/vnd.jupyter.widget-state+json": {
    "state": {},
    "version_major": 2,
    "version_minor": 0
   }
  }
 },
 "nbformat": 4,
 "nbformat_minor": 4
}
