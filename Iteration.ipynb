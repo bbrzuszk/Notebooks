{
 "cells": [
  {
   "cell_type": "markdown",
   "metadata": {},
   "source": [
    "# Loops in Python\n",
    "\n",
    "We have two basic loops in python and they both serve a rather specific purpose.  The <span style=\"color:red\">while loop</span> and the <span style=\"color:red\">for loop</span>.  The while loop is a condition controlled loop and the first one we will look at.  The for loop in python is a sequence controlled loop.  "
   ]
  },
  {
   "cell_type": "markdown",
   "metadata": {},
   "source": [
    "## While Loops\n",
    "The while loop can execute a set of statements as long as a condition is true.  In most circumstances there are 3 parts to the while loop that must happen in the correct order.\n",
    "1. A loop control variable is initialized before the loop\n",
    "1. A loop condition is set based on the control variable\n",
    "1. An incrementation or change to the control variable is in the body of the loop\n",
    "\n",
    "For example a simple counter"
   ]
  },
  {
   "cell_type": "code",
   "execution_count": 1,
   "metadata": {},
   "outputs": [
    {
     "name": "stdout",
     "output_type": "stream",
     "text": [
      "1\n",
      "2\n",
      "3\n",
      "4\n",
      "5\n",
      "All Done!\n"
     ]
    }
   ],
   "source": [
    "i = 1\n",
    "while i < 6:\n",
    "    print(i)\n",
    "    i += 1\n",
    "print(\"All Done!\")"
   ]
  },
  {
   "cell_type": "markdown",
   "metadata": {},
   "source": [
    "The above example sets a control variable <span style=\"color:red\">i</span> to a value of 1. It has a condition that will allow the indented statements to execute while i < 6 is true.  The body of the loop will print i then increment i by 1 until the condition is false.  Once false it will exit the loop and continue with the program.  \n",
    "  \n",
    "Fibbonaci Numbers for the next example"
   ]
  },
  {
   "cell_type": "code",
   "execution_count": 2,
   "metadata": {},
   "outputs": [
    {
     "name": "stdin",
     "output_type": "stream",
     "text": [
      "How many fibonacci numbers would you like to see (>1):  8\n"
     ]
    },
    {
     "name": "stdout",
     "output_type": "stream",
     "text": [
      "1 1 2 3 5 8 13 21 "
     ]
    }
   ],
   "source": [
    "counter = int(input(\"How many fibonacci numbers would you like to see (>1): \"))\n",
    "last = 0\n",
    "current = 1\n",
    "\n",
    "while counter > 0:\n",
    "    print(current, end = \" \")\n",
    "    next = last + current\n",
    "    last = current\n",
    "    current = next\n",
    "    counter -= 1"
   ]
  },
  {
   "cell_type": "markdown",
   "metadata": {},
   "source": [
    "---"
   ]
  },
  {
   "cell_type": "markdown",
   "metadata": {},
   "source": [
    "## For Loops\n",
    "The For loop is a sequence controlled loop.  Python has many sequences that you can iterate over like Strings, List, Tuples, and functions that produces sequences or iterables like the <span style=\"color:red\">range()</span> function.  \n",
    "\n",
    "The range function will produce a sequence of integers that will be defined by the parameters of the function.  \n",
    "- *range(<span style=\"color:red\">end</span>)* will produce a sequence of integers from 0 up to but not including the end value\n",
    "- *range(<span style=\"color:red\">begin, end</span>)* will produce a sequence of integers from begin up to but not including the end value\n",
    "- *range(<span style=\"color:red\">begin, end, step</span>)* will produce a sequence of integers from begin up to but not including the end value counting by step  \n",
    "\n",
    "For example:\n",
    "- range(5) --> {0, 1, 2, 3, 4}\n",
    "- range(3, 10) --> {3, 4, 5, 6, 7, 8, 9}\n",
    "- range(0, 10, 2) --> {0, 2, 4, 6, 8}\n",
    "- range (10, 0 , -1) --> {10, 9, ,8, 7, 6, 5, 4, 3, 2, 1}"
   ]
  },
  {
   "cell_type": "markdown",
   "metadata": {},
   "source": [
    "Using this in a for loop requires some basic set up.  Use the keyworld for followed by\n",
    "- A control variable to catch the members of the set one at a time\n",
    "- the keyword in to show you are still in the set/sequence\n",
    "- the range function do define your set/sequence\n",
    "For example a simple counter 1 to 10"
   ]
  },
  {
   "cell_type": "code",
   "execution_count": 3,
   "metadata": {},
   "outputs": [
    {
     "name": "stdout",
     "output_type": "stream",
     "text": [
      "1\n",
      "2\n",
      "3\n",
      "4\n",
      "5\n",
      "6\n",
      "7\n",
      "8\n",
      "9\n",
      "10\n",
      "All Done!\n"
     ]
    }
   ],
   "source": [
    "for i in range(1, 11):\n",
    "    print(i)\n",
    "print(\"All Done!\")"
   ]
  },
  {
   "cell_type": "markdown",
   "metadata": {},
   "source": [
    "Note that they range functions arguments are from 1 to 11.  We start at 1 and go up to but do not include 11.  The control variable i catches each member of the sequence one at a time and allows us to print it in the loop.  Once we have exhausted the sequence we end the loop. "
   ]
  },
  {
   "cell_type": "markdown",
   "metadata": {},
   "source": [
    "## For loop with other sequences\n",
    "These examples will be explained further with future lessons, but python is full of sequences that can be iterated through.\n",
    "**Strings** are a sequence of characters.  The loop pulls each character into the control variable each iteration. "
   ]
  },
  {
   "cell_type": "code",
   "execution_count": 4,
   "metadata": {},
   "outputs": [
    {
     "name": "stdout",
     "output_type": "stream",
     "text": [
      "B\n",
      "a\n",
      "n\n",
      "a\n",
      "n\n",
      "a\n"
     ]
    }
   ],
   "source": [
    "for letter in \"Banana\":\n",
    "    print(letter)"
   ]
  },
  {
   "cell_type": "markdown",
   "metadata": {},
   "source": [
    "**List** are a sequence of items (anything really) that can be iterated over.  The loop pulls each item from the list into the control variable each iteration"
   ]
  },
  {
   "cell_type": "code",
   "execution_count": 5,
   "metadata": {},
   "outputs": [
    {
     "name": "stdout",
     "output_type": "stream",
     "text": [
      "Brandon\n",
      "Amanda\n",
      "Chase\n",
      "Bryce\n"
     ]
    }
   ],
   "source": [
    "names = [\"Brandon\", \"Amanda\", \"Chase\", \"Bryce\"]\n",
    "for name in names:\n",
    "    print(name)\n"
   ]
  },
  {
   "cell_type": "markdown",
   "metadata": {},
   "source": [
    "---\n",
    "## Putting It All Together, Nesting\n",
    "Nesting these structures with others is where you can build real power.  This allows you to iterate over several sequences or multiple passes based on a condtion.  You can even place your conditional structures in to so you can seek answers to queries"
   ]
  },
  {
   "cell_type": "code",
   "execution_count": 6,
   "metadata": {},
   "outputs": [
    {
     "name": "stdout",
     "output_type": "stream",
     "text": [
      "The sum of i and j is even: 0\n",
      "The sum of i and j is even: 2\n",
      "The sum of i and j is even: 4\n",
      "The sum of i and j is even: 6\n",
      "The sum of i and j is even: 2\n",
      "The sum of i and j is even: 4\n",
      "The sum of i and j is even: 6\n",
      "The sum of i and j is even: 8\n",
      "The sum of i and j is even: 4\n",
      "The sum of i and j is even: 8\n"
     ]
    }
   ],
   "source": [
    "import random\n",
    "for i in range(0, 5):\n",
    "    for j in range(0, 8, random.randint(2, 4)):\n",
    "        if (i + j) % 2 == 0:\n",
    "            print(\"The sum of i and j is even: {}\".format( i + j))"
   ]
  }
 ],
 "metadata": {
  "kernelspec": {
   "display_name": "Python 3",
   "language": "python",
   "name": "python3"
  },
  "language_info": {
   "codemirror_mode": {
    "name": "ipython",
    "version": 3
   },
   "file_extension": ".py",
   "mimetype": "text/x-python",
   "name": "python",
   "nbconvert_exporter": "python",
   "pygments_lexer": "ipython3",
   "version": "3.7.6"
  }
 },
 "nbformat": 4,
 "nbformat_minor": 4
}
